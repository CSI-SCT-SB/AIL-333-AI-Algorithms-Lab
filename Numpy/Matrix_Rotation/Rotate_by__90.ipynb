{
  "nbformat": 4,
  "nbformat_minor": 0,
  "metadata": {
    "colab": {
      "provenance": [],
      "authorship_tag": "ABX9TyMT9GRkoRHkm/B0V6jA0Sl9",
      "include_colab_link": true
    },
    "kernelspec": {
      "name": "python3",
      "display_name": "Python 3"
    },
    "language_info": {
      "name": "python"
    }
  },
  "cells": [
    {
      "cell_type": "markdown",
      "metadata": {
        "id": "view-in-github",
        "colab_type": "text"
      },
      "source": [
        "<a href=\"https://colab.research.google.com/github/gadhalekshmip/AIL-333-AI-Algorithms-Lab/blob/main/Numpy/Matrix_Rotation/Rotate_by__90.ipynb\" target=\"_parent\"><img src=\"https://colab.research.google.com/assets/colab-badge.svg\" alt=\"Open In Colab\"/></a>"
      ]
    },
    {
      "cell_type": "code",
      "execution_count": 8,
      "metadata": {
        "colab": {
          "base_uri": "https://localhost:8080/"
        },
        "id": "IxfzUge8MEDV",
        "outputId": "7f41537b-8772-455e-a63c-4e6e6cc33640"
      },
      "outputs": [
        {
          "output_type": "stream",
          "name": "stdout",
          "text": [
            "Enter the number of rows:2\n",
            "Enter the number of columns:2\n",
            "Enter the entries rowwise:\n",
            "1\n",
            "2\n",
            "3\n",
            "4\n",
            "orginal array\n",
            "1 2 \n",
            "3 4 \n",
            "The Matrix after rotation by the -ve 90 degree.\n",
            "[[2 4]\n",
            " [1 3]]\n"
          ]
        }
      ],
      "source": [
        "#gadha lekshmi p\n",
        "import numpy as np\n",
        "\n",
        "\n",
        "R = int(input(\"Enter the number of rows:\"))\n",
        "C = int(input(\"Enter the number of columns:\"))\n",
        "  \n",
        "# Initialize matrix\n",
        "matrix = []\n",
        "print(\"Enter the entries rowwise:\")\n",
        "  \n",
        "# For user input\n",
        "for i in range(R):          # A for loop for row entries\n",
        "    a =[]\n",
        "    for j in range(C):      # A for loop for column entries\n",
        "         a.append(int(input()))\n",
        "    matrix.append(a)\n",
        "m=np.array(matrix)\n",
        "print(\"orginal array\")\n",
        "  \n",
        "# For printing the matrix\n",
        "for i in range(R):\n",
        "    for j in range(C):\n",
        "        print(matrix[i][j], end = \" \")\n",
        "    print()\n",
        "\n",
        "rm=np.rot90(m)\n",
        "print(\"The Matrix after rotation by the -ve 90 degree.\")\n",
        "print(rm)"
      ]
    }
  ]
}