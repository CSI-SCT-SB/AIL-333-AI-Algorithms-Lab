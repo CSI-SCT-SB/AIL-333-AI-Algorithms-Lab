{
  "nbformat": 4,
  "nbformat_minor": 0,
  "metadata": {
    "colab": {
      "provenance": [],
      "authorship_tag": "ABX9TyMYm2i0E5jiOU2O2ZVyQmFn",
      "include_colab_link": true
    },
    "kernelspec": {
      "name": "python3",
      "display_name": "Python 3"
    },
    "language_info": {
      "name": "python"
    }
  },
  "cells": [
    {
      "cell_type": "markdown",
      "metadata": {
        "id": "view-in-github",
        "colab_type": "text"
      },
      "source": [
        "<a href=\"https://colab.research.google.com/github/HKRcodes/AIL-333-AI-Algorithms-Lab/blob/main/_3(i)_BestFirstSearch/_3(i)_BestFirstSearch.ipynb\" target=\"_parent\"><img src=\"https://colab.research.google.com/assets/colab-badge.svg\" alt=\"Open In Colab\"/></a>"
      ]
    },
    {
      "cell_type": "code",
      "source": [
        "def bestfirstsearch(start_node , stop_node):\n",
        "  open_set = set(start_node)\n",
        "  closed_set = set()\n",
        "  g = {}\n",
        "  parents = {}\n",
        "  cost = 0\n",
        "  g[start_node] = 0\n",
        "  parents[start_node] = start_node\n",
        "  while len(open_set) > 0:\n",
        "    n = None\n",
        "    for v in open_set:\n",
        "      if (n == None) or (g[v]+heuristic[v] < g[n]+heuristic[n]):\n",
        "        n = v\n",
        "    if n == stop_node or Graph_nodes == None:\n",
        "      pass\n",
        "    else:\n",
        "      for (m,weight) in get_neighbours(n):\n",
        "        if m not in open_set and m not in closed_set:\n",
        "          open_set.add(m)\n",
        "          parents[m] = n\n",
        "          g[m] = g[n]\n",
        "        else:\n",
        "          if g[m] > g[n]:\n",
        "            g[m] = g[n]\n",
        "            parents[m] = n\n",
        "            if m in closed_set:\n",
        "              closed_set.remove(m)\n",
        "              open_set.add(m)\n",
        "    if n == None:\n",
        "      print(\"Path does not exist.\")\n",
        "      return None\n",
        "    if n == stop_node:\n",
        "      path = []\n",
        "      while parents[n] != n:\n",
        "        path.append(n)\n",
        "        n = parents[n]\n",
        "      path.append(start_node)\n",
        "      path.reverse()\n",
        "      print(\"Path found: {}\".format(path))\n",
        "      l = len(path)\n",
        "      l = l-1\n",
        "      for i in range(l):\n",
        "        for(m,weight) in get_neighbours(path[i]):\n",
        "          if(m == path[i+1]):\n",
        "            cost = cost + weight\n",
        "      print(\"Cost = \",cost)\n",
        "      return path\n",
        "    open_set.remove(n)\n",
        "    closed_set.add(n)\n",
        "  print(\"Path does not exist.\")\n",
        "  return None\n",
        "\n",
        "def get_neighbours(v):\n",
        "  if v in Graph_nodes:\n",
        "    return Graph_nodes[v]\n",
        "  else:\n",
        "    return None\n",
        "\n",
        "def addnode(v):\n",
        "  if(v in Graph_nodes):\n",
        "    print(\"Node already present.\")\n",
        "  else:\n",
        "    Graph_nodes[v] = []\n",
        "\n",
        "def addedge(x , y , cost):\n",
        "  Graph_nodes[x].append((y , cost))\n",
        "  Graph_nodes[y].append((x , cost))\n",
        "\n",
        "# Main body\n",
        "Graph_nodes = {}\n",
        "heuristic = {}\n",
        "print(\"___To Create the graph___ \\n\")\n",
        "v = int(input(\"Enter the number of nodes : \"))\n",
        "for i in range(v):\n",
        "  vertex = input(\"Enter the vertex : \")\n",
        "  addnode(vertex)\n",
        "  heur = int(input(\"Enter the heuristic value of the vertex : \"))\n",
        "  heuristic[vertex] = heur\n",
        "e = int(input(\"Enter the number of edges : \"))\n",
        "for i in range(e):\n",
        "  vertex = input(\"Enter the vertex : \")\n",
        "  edge_vertex = input(\"Enter the vertex at other end of the edge : \")\n",
        "  cost = int(input(\"Enter the cost of the edge : \"))\n",
        "  addedge(vertex , edge_vertex , cost)\n",
        "\n",
        "start = input(\"Enter the start/source node : \")\n",
        "goal = input(\"Enter the goal/terget node : \")\n",
        "print(Graph_nodes)\n",
        "print(heuristic)\n",
        "bestfirstsearch(start , goal)\n",
        "\n"
      ],
      "metadata": {
        "colab": {
          "base_uri": "https://localhost:8080/"
        },
        "id": "dRdM_6ZGqxws",
        "outputId": "204038c9-958a-43b2-d65b-f28fcc72e118"
      },
      "execution_count": 4,
      "outputs": [
        {
          "output_type": "stream",
          "name": "stdout",
          "text": [
            "___To Create the graph___ \n",
            "\n",
            "Enter the number of nodes : 6\n",
            "Enter the vertex : S\n",
            "Enter the heuristic value of the vertex : 12\n",
            "Enter the vertex : A\n",
            "Enter the heuristic value of the vertex : 3\n",
            "Enter the vertex : B\n",
            "Enter the heuristic value of the vertex : 2\n",
            "Enter the vertex : C\n",
            "Enter the heuristic value of the vertex : 1\n",
            "Enter the vertex : D\n",
            "Enter the heuristic value of the vertex : 4\n",
            "Enter the vertex : E\n",
            "Enter the heuristic value of the vertex : 0\n",
            "Enter the number of edges : 7\n",
            "Enter the vertex : S\n",
            "Enter the vertex at other end of the edge : A\n",
            "Enter the cost of the edge : 5\n",
            "Enter the vertex : S\n",
            "Enter the vertex at other end of the edge : B\n",
            "Enter the cost of the edge : 4\n",
            "Enter the vertex : A\n",
            "Enter the vertex at other end of the edge : C\n",
            "Enter the cost of the edge : 6\n",
            "Enter the vertex : A\n",
            "Enter the vertex at other end of the edge : D\n",
            "Enter the cost of the edge : 7\n",
            "Enter the vertex : C\n",
            "Enter the vertex at other end of the edge : D\n",
            "Enter the cost of the edge : 8\n",
            "Enter the vertex : B\n",
            "Enter the vertex at other end of the edge : D\n",
            "Enter the cost of the edge : 8\n",
            "Enter the vertex : D\n",
            "Enter the vertex at other end of the edge : E\n",
            "Enter the cost of the edge : 7\n",
            "Enter the start/source node : S\n",
            "Enter the goal/terget node : E\n",
            "{'S': [('A', 5), ('B', 4)], 'A': [('S', 5), ('C', 6), ('D', 7)], 'B': [('S', 4), ('D', 8)], 'C': [('A', 6), ('D', 8)], 'D': [('A', 7), ('C', 8), ('B', 8), ('E', 7)], 'E': [('D', 7)]}\n",
            "{'S': 12, 'A': 3, 'B': 2, 'C': 1, 'D': 4, 'E': 0}\n",
            "Path found: ['S', 'B', 'D', 'E']\n",
            "Cost =  19\n"
          ]
        },
        {
          "output_type": "execute_result",
          "data": {
            "text/plain": [
              "['S', 'B', 'D', 'E']"
            ]
          },
          "metadata": {},
          "execution_count": 4
        }
      ]
    }
  ]
}