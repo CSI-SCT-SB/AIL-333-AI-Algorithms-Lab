{
  "nbformat": 4,
  "nbformat_minor": 0,
  "metadata": {
    "colab": {
      "provenance": [],
      "authorship_tag": "ABX9TyOpCNHZSSvkwMkG0S8RMpSF",
      "include_colab_link": true
    },
    "kernelspec": {
      "name": "python3",
      "display_name": "Python 3"
    },
    "language_info": {
      "name": "python"
    }
  },
  "cells": [
    {
      "cell_type": "markdown",
      "metadata": {
        "id": "view-in-github",
        "colab_type": "text"
      },
      "source": [
        "<a href=\"https://colab.research.google.com/github/HKRcodes/AIL-333-AI-Algorithms-Lab/blob/main/_5.Alpha_Beta_Pruning/_5.Alpha_Beta_Pruning.ipynb\" target=\"_parent\"><img src=\"https://colab.research.google.com/assets/colab-badge.svg\" alt=\"Open In Colab\"/></a>"
      ]
    },
    {
      "cell_type": "code",
      "source": [
        "MIN,MAX = -1000,1000\n",
        "maxdepth = 3\n",
        "\n",
        "def minimax(depth,nodeIndex,maximizingPlayer,values,alpha,beta,maxdepth):\n",
        "  if depth == maxdepth:\n",
        "    return values[nodeIndex]\n",
        "  if maximizingPlayer:\n",
        "    best = MIN\n",
        "    for i in range(2):\n",
        "      val = minimax(depth+1 ,nodeIndex*2+i ,False, values, alpha, beta, maxdepth)\n",
        "      best = max(best , val)\n",
        "      alpha = max(alpha , best)\n",
        "      if beta <= alpha:\n",
        "        break\n",
        "    return best\n",
        "  else:\n",
        "    best = MAX\n",
        "    for i in range(2):\n",
        "      val = minimax(depth+1, nodeIndex*2+i, True, values, alpha, beta, maxdepth)\n",
        "      best = min(best , val)\n",
        "      beta = min(best , beta)\n",
        "      if beta <= alpha:\n",
        "        break\n",
        "    return best\n",
        "\n",
        "if __name__ == \"__main__\":\n",
        "  maxdepth = int(input(\"Enter the depth of the tree : \"))\n",
        "  values = input(\"Enter the values of the leaf nodes : \")\n",
        "  values = values.split(\" \")\n",
        "  values = [int(i) for i in values]\n",
        "  val = minimax(0, 0, True, values, MIN, MAX, maxdepth)\n",
        "  print(val)\n",
        "\n"
      ],
      "metadata": {
        "colab": {
          "base_uri": "https://localhost:8080/"
        },
        "id": "uEbi4LSX36du",
        "outputId": "cdecbf4c-ad78-4dee-8140-27f084467de7"
      },
      "execution_count": 6,
      "outputs": [
        {
          "output_type": "stream",
          "name": "stdout",
          "text": [
            "Enter the depth of the tree : 3\n",
            "Enter the values of the leaf nodes : 2 3 5 9 0 1 7 5\n",
            "3\n"
          ]
        }
      ]
    }
  ]
}