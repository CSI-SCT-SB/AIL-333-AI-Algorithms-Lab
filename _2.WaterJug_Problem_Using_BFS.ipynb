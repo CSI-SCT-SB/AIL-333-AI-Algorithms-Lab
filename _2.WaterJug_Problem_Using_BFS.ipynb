{
  "nbformat": 4,
  "nbformat_minor": 0,
  "metadata": {
    "colab": {
      "provenance": [],
      "authorship_tag": "ABX9TyPhZMpvorcmnmNmEbtT8TlY",
      "include_colab_link": true
    },
    "kernelspec": {
      "name": "python3",
      "display_name": "Python 3"
    },
    "language_info": {
      "name": "python"
    }
  },
  "cells": [
    {
      "cell_type": "markdown",
      "metadata": {
        "id": "view-in-github",
        "colab_type": "text"
      },
      "source": [
        "<a href=\"https://colab.research.google.com/github/HKRcodes/AIL-333-AI-Algorithms-Lab/blob/main/_2.WaterJug_Problem_Using_BFS.ipynb\" target=\"_parent\"><img src=\"https://colab.research.google.com/assets/colab-badge.svg\" alt=\"Open In Colab\"/></a>"
      ]
    },
    {
      "cell_type": "code",
      "execution_count": 7,
      "metadata": {
        "colab": {
          "base_uri": "https://localhost:8080/"
        },
        "id": "b-hzJWKfIz2Q",
        "outputId": "3cf0a5aa-cf6c-4037-b44d-a9dbf940b3ea"
      },
      "outputs": [
        {
          "output_type": "stream",
          "name": "stdout",
          "text": [
            "Enter the capacity of Jug 1:4\n",
            "Enter the capacity of Jug 2:3\n",
            "Enter the target quantity:2\n",
            "Path from initial state to solution state is\n",
            "( 0 , 0 )\n",
            "( 0 , 3 )\n",
            "( 4 , 0 )\n",
            "( 4 , 3 )\n",
            "( 3 , 0 )\n",
            "( 1 , 3 )\n",
            "( 3 , 3 )\n",
            "( 4 , 2 )\n",
            "( 0 , 2 )\n"
          ]
        }
      ],
      "source": [
        "from collections import deque\n",
        "def BFS(a, b, target):\n",
        "    m = {}\n",
        "    isSolvable = False\n",
        "    path = []\n",
        "    q = deque()\n",
        "    q.append([0, 0])\n",
        "    while (len(q) > 0):\n",
        "        u = q.popleft()\n",
        "        if ((u[0], u[1]) in m):\n",
        "            continue\n",
        "        if ((u[0] > a or u[1] > b or u[0] < 0 or u[1] < 0)):\n",
        "            continue\n",
        "        path.append([u[0], u[1]])\n",
        "        m[(u[0], u[1])] = 1\n",
        "        if (u[0] == target or u[1] == target):\n",
        "            isSolvable = True\n",
        "            if (u[0] == target):\n",
        "                if (u[1] != 0):\n",
        "                    path.append([u[0], 0])\n",
        "            else:\n",
        "                if (u[0] != 0):\n",
        "                    path.append([0, u[1]])\n",
        "                sz = len(path)\n",
        "                for i in range(sz):\n",
        "                  print(\"(\", path[i][0], \",\",path[i][1], \")\")\n",
        "                break\n",
        "        q.append([u[0], b]) \n",
        "        q.append([a, u[1]])  \n",
        "        for ap in range(max(a, b) + 1):\n",
        "            c = u[0]+ap\n",
        "            d = u[1]-ap\n",
        "            if (c == a or (d == 0 and d >= 0)):\n",
        "                q.append([c, d])\n",
        "            c = u[0] - ap\n",
        "            d = u[1] + ap\n",
        "            if ((c == 0 and c >= 0) or d == b):\n",
        "                q.append([c, d])\n",
        "            q.append([a, 0])\n",
        "            q.append([0, b])\n",
        "    if (not isSolvable):\n",
        "        print(\"No solution\")\n",
        " \n",
        " \n",
        "# Driver code\n",
        " \n",
        "Jug1 = int(input(\"Enter the capacity of Jug 1:\"))\n",
        "Jug2 = int(input(\"Enter the capacity of Jug 2:\"))\n",
        "Target = int(input(\"Enter the target quantity:\"))\n",
        "print(\"Path from initial state to solution state is\")\n",
        "BFS(Jug1, Jug2, Target)\n",
        " "
      ]
    }
  ]
}