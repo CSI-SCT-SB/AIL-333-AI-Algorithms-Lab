{
  "nbformat": 4,
  "nbformat_minor": 0,
  "metadata": {
    "colab": {
      "provenance": [],
      "include_colab_link": true
    },
    "kernelspec": {
      "name": "python3",
      "display_name": "Python 3"
    },
    "language_info": {
      "name": "python"
    }
  },
  "cells": [
    {
      "cell_type": "markdown",
      "metadata": {
        "id": "view-in-github",
        "colab_type": "text"
      },
      "source": [
        "<a href=\"https://colab.research.google.com/github/GOVINDFROMINDIA/AIL-333-AI-Algorithms-Lab/blob/main/TSP.ipynb\" target=\"_parent\"><img src=\"https://colab.research.google.com/assets/colab-badge.svg\" alt=\"Open In Colab\"/></a>"
      ]
    },
    {
      "cell_type": "code",
      "execution_count": null,
      "metadata": {
        "id": "ij0B-R3-pHqP"
      },
      "outputs": [],
      "source": []
    },
    {
      "cell_type": "code",
      "source": [
        "n=int(input(\"Enter Number of Cities\"))\n",
        "tsp = [[0 for col in range(n)] for row in range(n)]\n",
        "for row in range(n):\n",
        "    for col in range(n):\n",
        "      if row!=col and row<col:\n",
        "        print(\"Enter Distance From city \",row,\" to city\",col,\":\")\n",
        "        tsp[row][col]= int(input())\n",
        "      if row!=col and row>col:\n",
        "        tsp[row][col]=tsp[col][row]\n",
        "\n",
        "print(range(len(tsp)))"
      ],
      "metadata": {
        "colab": {
          "base_uri": "https://localhost:8080/"
        },
        "id": "RdzJcEsvPMd-",
        "outputId": "18b35136-0de3-49b2-dd6a-50c2e7414d34"
      },
      "execution_count": null,
      "outputs": [
        {
          "output_type": "stream",
          "name": "stdout",
          "text": [
            "Enter Number of Cities3\n",
            "Enter Distance From city  0  to city 1 :\n",
            "23\n",
            "Enter Distance From city  0  to city 2 :\n",
            "341\n",
            "Enter Distance From city  1  to city 2 :\n",
            "32\n",
            "range(0, 3)\n"
          ]
        }
      ]
    },
    {
      "cell_type": "code",
      "source": [
        "import random\n",
        "def randomSolution(tsp):\n",
        "    cities = list(range(len(tsp)))\n",
        "    solution = []\n",
        "\n",
        "    for i in range(len(tsp)):\n",
        "        randomCity = cities[random.randint(0, len(cities) - 1)]\n",
        "        solution.append(randomCity)\n",
        "        cities.remove(randomCity)\n",
        "        \n",
        "    print('random arrangement: ', solution)\n",
        "    return solution\n",
        "\n",
        "\n",
        "def routeLength(tsp, solution):\n",
        "    routeLength = 0\n",
        "    for i in range(len(solution)):\n",
        "        routeLength += tsp[solution[i - 1]][solution[i]]\n",
        "    return routeLength\n",
        "\n",
        "def getNeighbours(solution):\n",
        "    neighbours = []\n",
        "    for i in range(len(solution)):\n",
        "        for j in range(i + 1, len(solution)):\n",
        "            neighbour = solution.copy()\n",
        "            neighbour[i] = solution[j]\n",
        "            neighbour[j] = solution[i]\n",
        "            neighbours.append(neighbour)\n",
        "    return neighbours         \n",
        "\n",
        "def getBestNeighbour(tsp, neighbours):\n",
        "    bestRouteLength = routeLength(tsp, neighbours[0])\n",
        "    bestNeighbour = neighbours[0]\n",
        "    for neighbour in neighbours:\n",
        "        currentRouteLength = routeLength(tsp, neighbour)\n",
        "        if currentRouteLength < bestRouteLength:\n",
        "            bestRouteLength = currentRouteLength\n",
        "            bestNeighbour = neighbour\n",
        "    return bestNeighbour, bestRouteLength\n",
        "\n",
        "def hillClimbing(tsp):\n",
        "    currentSolution = randomSolution(tsp)\n",
        "    currentRouteLength = routeLength(tsp, currentSolution)\n",
        "    neighbours = getNeighbours(currentSolution)\n",
        "    bestNeighbour, bestNeighbourRouteLength = getBestNeighbour(tsp, neighbours)\n",
        "    print('first solution: ', bestNeighbour , ', ', bestNeighbourRouteLength)\n",
        "\n",
        "    while bestNeighbourRouteLength < currentRouteLength:\n",
        "        currentSolution = bestNeighbour\n",
        "        currentRouteLength = bestNeighbourRouteLength\n",
        "        neighbours = getNeighbours(currentSolution)\n",
        "        bestNeighbour, bestNeighbourRouteLength = getBestNeighbour(tsp, neighbours)\n",
        "        print('current solution: ', bestNeighbour , ', ', bestNeighbourRouteLength)\n",
        "\n",
        "\n",
        "    return currentSolution, currentRouteLength\n",
        "\n",
        "\n",
        "n=int(input(\"Enter Number of Cities\"))\n",
        "tsp = [[0 for col in range(n)] for row in range(n)]\n",
        "for row in range(n):\n",
        "    for col in range(n):\n",
        "      if row!=col and row<col:\n",
        "        print(\"Enter Distance From city \",row,\" to city\",col,\":\")\n",
        "        tsp[row][col]= int(input())\n",
        "      if row!=col and row>col:\n",
        "        tsp[row][col]=tsp[col][row]\n",
        "print(tsp)\n",
        "print('-----')\n",
        "print('\\n final solution', hillClimbing(tsp))"
      ],
      "metadata": {
        "id": "QunuhD25xe9N",
        "colab": {
          "base_uri": "https://localhost:8080/"
        },
        "outputId": "efb00db5-3846-4918-b5dc-930952c29b2f"
      },
      "execution_count": null,
      "outputs": [
        {
          "output_type": "stream",
          "name": "stdout",
          "text": [
            "Enter Number of Cities4\n",
            "Enter Distance From city  0  to city 1 :\n",
            "400\n",
            "Enter Distance From city  0  to city 2 :\n",
            "500\n",
            "Enter Distance From city  0  to city 3 :\n",
            "300\n",
            "Enter Distance From city  1  to city 2 :\n",
            "300\n",
            "Enter Distance From city  1  to city 3 :\n",
            "500\n",
            "Enter Distance From city  2  to city 3 :\n",
            "400\n",
            "[[0, 400, 500, 300], [400, 0, 300, 500], [500, 300, 0, 400], [300, 500, 400, 0]]\n",
            "-----\n",
            "random arrangement:  [2, 3, 0, 1]\n",
            "first solution:  [0, 3, 2, 1] ,  1400\n",
            "\n",
            " final solution ([2, 3, 0, 1], 1400)\n"
          ]
        }
      ]
    }
  ]
}