{
  "nbformat": 4,
  "nbformat_minor": 0,
  "metadata": {
    "colab": {
      "provenance": [],
      "authorship_tag": "ABX9TyOI59uYog/v9L0KZW9+s3nE",
      "include_colab_link": true
    },
    "kernelspec": {
      "name": "python3",
      "display_name": "Python 3"
    },
    "language_info": {
      "name": "python"
    }
  },
  "cells": [
    {
      "cell_type": "markdown",
      "metadata": {
        "id": "view-in-github",
        "colab_type": "text"
      },
      "source": [
        "<a href=\"https://colab.research.google.com/github/HKRcodes/AIL-333-AI-Algorithms-Lab/blob/main/8puzzle.ipynb\" target=\"_parent\"><img src=\"https://colab.research.google.com/assets/colab-badge.svg\" alt=\"Open In Colab\"/></a>"
      ]
    },
    {
      "cell_type": "code",
      "execution_count": 2,
      "metadata": {
        "colab": {
          "base_uri": "https://localhost:8080/"
        },
        "id": "0j4SP0_zyToo",
        "outputId": "94799757-8e42-4d57-88f1-89824e2b456f"
      },
      "outputs": [
        {
          "output_type": "stream",
          "name": "stdout",
          "text": [
            "Enter rows of the board (0-8), separated by spaces: 1 2 3\n",
            "Enter rows of the board (0-8), separated by spaces: 0 4 6\n",
            "Enter rows of the board (0-8), separated by spaces: 7 5 8\n",
            "Solution found:\n",
            "\n",
            "Next State:\n",
            "[1, 2, 3]\n",
            "[0, 4, 6]\n",
            "[7, 5, 8]\n",
            "\n",
            "Next State:\n",
            "[1, 2, 3]\n",
            "[4, 0, 6]\n",
            "[7, 5, 8]\n",
            "\n",
            "Next State:\n",
            "[1, 2, 3]\n",
            "[4, 5, 6]\n",
            "[7, 0, 8]\n",
            "\n",
            "Next State:\n",
            "[1, 2, 3]\n",
            "[4, 5, 6]\n",
            "[7, 8, 0]\n"
          ]
        }
      ],
      "source": [
        "from collections import deque\n",
        "def get_possible_moves(board):\n",
        "  row, col = get_empty_tile_index(board)\n",
        "  moves = []\n",
        "  if row > 0:\n",
        "    moves.append((row-1, col))\n",
        "  if col > 0:\n",
        "    moves.append((row, col-1))\n",
        "  if row < 2:\n",
        "    moves.append((row+1, col))\n",
        "  if col < 2:\n",
        "    moves.append((row, col+1))\n",
        "  return moves\n",
        "def get_empty_tile_index(board):\n",
        "  for i in range(3):\n",
        "    for j in range(3):\n",
        "      if board[i][j] == 0:\n",
        "        return (i, j)\n",
        "def is_solved(board):\n",
        "  return board == [[1,2,3],[4,5,6],[7,8,0]]\n",
        "def bestfs(board):\n",
        "  visited_boards = set() \n",
        "  queue = deque([board]) \n",
        "  parent = {tuple(map(tuple, board)): None} \n",
        "  while queue:\n",
        "    board = queue.popleft()\n",
        "    if is_solved(board):\n",
        "      path = [board]\n",
        "      while parent[tuple(map(tuple, board))] is not None:\n",
        "        board = parent[tuple(map(tuple, board))]\n",
        "        path.append(board)\n",
        "      return path[::-1]\n",
        "    visited_boards.add(tuple(map(tuple, board)))\n",
        "    empty_row, empty_col = get_empty_tile_index(board)\n",
        "    for move in get_possible_moves(board):\n",
        "      new_board = [list(row) for row in board]\n",
        "      row, col = move\n",
        "      new_board[row][col], new_board[empty_row][empty_col] = new_board[empty_row][empty_col], new_board[row][col]\n",
        "      if tuple(map(tuple, new_board)) not in visited_boards:\n",
        "        queue.append(new_board)\n",
        "        parent[tuple(map(tuple, new_board))] = board\n",
        "  return None\n",
        "board = []\n",
        "for i in range(3):\n",
        "  row = input(\"Enter rows of the board (0-8), separated by spaces: \")\n",
        "  row = [int(x) for x in row.split()]\n",
        "  board.append(row)\n",
        "solution = bestfs(board)\n",
        "if solution:\n",
        "  print(\"Solution found:\")\n",
        "  for row in solution:\n",
        "    print(\"\\nNext State:\")\n",
        "    for i in row: \n",
        "      print(i)\n",
        "else:\n",
        "  print(\"No solution found.\")"
      ]
    }
  ]
}